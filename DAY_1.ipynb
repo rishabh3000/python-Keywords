{
 "cells": [
  {
   "cell_type": "code",
   "execution_count": 1,
   "id": "9b3356ae",
   "metadata": {},
   "outputs": [],
   "source": [
    "import keyword"
   ]
  },
  {
   "cell_type": "code",
   "execution_count": 2,
   "id": "45e57c98",
   "metadata": {},
   "outputs": [
    {
     "name": "stdout",
     "output_type": "stream",
     "text": [
      "The list of keyword is : \n",
      "['False', 'None', 'True', '__peg_parser__', 'and', 'as', 'assert', 'async', 'await', 'break', 'class', 'continue', 'def', 'del', 'elif', 'else', 'except', 'finally', 'for', 'from', 'global', 'if', 'import', 'in', 'is', 'lambda', 'nonlocal', 'not', 'or', 'pass', 'raise', 'return', 'try', 'while', 'with', 'yield']\n"
     ]
    }
   ],
   "source": [
    "print(\"The list of keyword is : \")\n",
    "print(keyword.kwlist)"
   ]
  },
  {
   "cell_type": "code",
   "execution_count": 3,
   "id": "122ca19d",
   "metadata": {},
   "outputs": [
    {
     "name": "stdout",
     "output_type": "stream",
     "text": [
      "True\n",
      "True\n",
      "3\n",
      "1\n",
      "False\n",
      "False\n"
     ]
    }
   ],
   "source": [
    "print(False == 0)\n",
    "print(True == 1)\n",
    "  \n",
    "print(True + True + True)\n",
    "print(True + False + False)\n",
    "  \n",
    "print(None == 0)\n",
    "print(None == [])"
   ]
  },
  {
   "cell_type": "code",
   "execution_count": 7,
   "id": "addee58e",
   "metadata": {},
   "outputs": [
    {
     "name": "stdout",
     "output_type": "stream",
     "text": [
      "True\n",
      "False\n",
      "False\n",
      "s is the part of Rishabh\n",
      "R i s h a b h \r\n",
      "True\n"
     ]
    },
    {
     "name": "stderr",
     "output_type": "stream",
     "text": [
      "<>:17: SyntaxWarning: \"is\" with a literal. Did you mean \"==\"?\n",
      "<>:17: SyntaxWarning: \"is\" with a literal. Did you mean \"==\"?\n",
      "C:\\Users\\AST_RI~1\\AppData\\Local\\Temp/ipykernel_12180/4288792294.py:17: SyntaxWarning: \"is\" with a literal. Did you mean \"==\"?\n",
      "  print(' ' is ' ')\n"
     ]
    }
   ],
   "source": [
    "print(True or False)\n",
    "print(True and False)\n",
    "print(not True)\n",
    "\n",
    "\n",
    "if \"s\" in \"Rishabh\":\n",
    "    print(\"s is the part of Rishabh\")\n",
    "else:\n",
    "    print(\"s is the not part of Rishabh\")\n",
    "    \n",
    "    \n",
    "for i in \"Rishabh\":\n",
    "    print(i,end=\" \")\n",
    "    \n",
    "print(\"\\r\")\n"
   ]
  },
  {
   "cell_type": "code",
   "execution_count": 5,
   "id": "1a249a94",
   "metadata": {},
   "outputs": [
    {
     "name": "stdout",
     "output_type": "stream",
     "text": [
      "R i s h a b h "
     ]
    }
   ],
   "source": [
    "for i in \"Rishabh\":\n",
    "    print(i,end=\" \")"
   ]
  },
  {
   "cell_type": "code",
   "execution_count": 6,
   "id": "fdfac513",
   "metadata": {},
   "outputs": [
    {
     "name": "stdout",
     "output_type": "stream",
     "text": [
      "True\n"
     ]
    },
    {
     "name": "stderr",
     "output_type": "stream",
     "text": [
      "<>:1: SyntaxWarning: \"is\" with a literal. Did you mean \"==\"?\n",
      "<>:1: SyntaxWarning: \"is\" with a literal. Did you mean \"==\"?\n",
      "C:\\Users\\AST_RI~1\\AppData\\Local\\Temp/ipykernel_12180/3038790479.py:1: SyntaxWarning: \"is\" with a literal. Did you mean \"==\"?\n",
      "  print(' ' is ' ')\n"
     ]
    }
   ],
   "source": [
    "print(' ' is ' ')"
   ]
  },
  {
   "cell_type": "code",
   "execution_count": 8,
   "id": "3c80f95d",
   "metadata": {},
   "outputs": [
    {
     "name": "stdout",
     "output_type": "stream",
     "text": [
      "False\n"
     ]
    }
   ],
   "source": [
    "print({} is {})"
   ]
  },
  {
   "cell_type": "code",
   "execution_count": 9,
   "id": "41332dc7",
   "metadata": {},
   "outputs": [
    {
     "name": "stdout",
     "output_type": "stream",
     "text": [
      "0 1 2 3 4 5 6 \n"
     ]
    }
   ],
   "source": [
    "for i in range(10):\n",
    "  \n",
    "    print(i, end = \" \")\n",
    "      \n",
    "    # break the loop as soon it sees 6\n",
    "    if i == 6:\n",
    "        break\n",
    "      \n",
    "print()\n",
    "      "
   ]
  },
  {
   "cell_type": "code",
   "execution_count": 10,
   "id": "7e4d3164",
   "metadata": {},
   "outputs": [
    {
     "name": "stdout",
     "output_type": "stream",
     "text": [
      "0 1 2 3 4 5 7 8 9 "
     ]
    }
   ],
   "source": [
    "i=0\n",
    "while i <10:\n",
    "    \n",
    "    if i==6:\n",
    "        i+=1\n",
    "        continue\n",
    "    else:\n",
    "        print(i,end=\" \")\n",
    "        \n",
    "    i+=1"
   ]
  },
  {
   "cell_type": "code",
   "execution_count": 11,
   "id": "02ed7eae",
   "metadata": {},
   "outputs": [
    {
     "name": "stdout",
     "output_type": "stream",
     "text": [
      "i is 20\n"
     ]
    }
   ],
   "source": [
    "i = 20\n",
    "if (i == 10):\n",
    "    print (\"i is 10\")\n",
    "elif (i == 20):\n",
    "    print (\"i is 20\")\n",
    "else:\n",
    "    print (\"i is not present\")"
   ]
  },
  {
   "cell_type": "code",
   "execution_count": 12,
   "id": "19630603",
   "metadata": {},
   "outputs": [
    {
     "data": {
      "text/plain": [
       "'Inside Function'"
      ]
     },
     "execution_count": 12,
     "metadata": {},
     "output_type": "execute_result"
    }
   ],
   "source": [
    "def fun():\n",
    "    return(\"Inside Function\")\n",
    "fun()"
   ]
  },
  {
   "cell_type": "code",
   "execution_count": 13,
   "id": "ebafd8b8",
   "metadata": {},
   "outputs": [
    {
     "name": "stdout",
     "output_type": "stream",
     "text": [
      "45\n"
     ]
    }
   ],
   "source": [
    "def fun():\n",
    "    S = 0\n",
    "      \n",
    "    for i in range(10):\n",
    "        S += i\n",
    "    return S\n",
    "  \n",
    "print(fun())"
   ]
  },
  {
   "cell_type": "code",
   "execution_count": 15,
   "id": "457cc128",
   "metadata": {},
   "outputs": [
    {
     "name": "stdout",
     "output_type": "stream",
     "text": [
      "0\n",
      "1\n",
      "3\n",
      "6\n",
      "10\n",
      "15\n",
      "21\n",
      "28\n",
      "36\n",
      "45\n",
      "<generator object fun at 0x0000028B9EA387B0>\n"
     ]
    }
   ],
   "source": [
    "def fun():\n",
    "    S = 0\n",
    "      \n",
    "    for i in range(10):\n",
    "        S += i\n",
    "        yield S\n",
    "  \n",
    "for i in fun():\n",
    "    print(i)\n",
    "print(fun())"
   ]
  },
  {
   "cell_type": "code",
   "execution_count": 16,
   "id": "edc8a49f",
   "metadata": {},
   "outputs": [
    {
     "name": "stdout",
     "output_type": "stream",
     "text": [
      "mammal\n",
      "I'm a mammal\n",
      "I'm a dog\n"
     ]
    }
   ],
   "source": [
    "class Dog:\n",
    "      \n",
    "    # A simple class\n",
    "    # attribute\n",
    "    attr1 = \"mammal\"\n",
    "    attr2 = \"dog\"\n",
    "  \n",
    "    # A sample method\n",
    "    def fun(self):\n",
    "        print(\"I'm a\", self.attr1)\n",
    "        print(\"I'm a\", self.attr2)\n",
    "  \n",
    "# Driver code\n",
    "# Object instantiation\n",
    "Rodger = Dog()\n",
    "  \n",
    "# Accessing class attributes\n",
    "# and method through objects\n",
    "print(Rodger.attr1)\n",
    "Rodger.fun()"
   ]
  },
  {
   "cell_type": "code",
   "execution_count": 18,
   "id": "d9b91d17",
   "metadata": {},
   "outputs": [
    {
     "name": "stdout",
     "output_type": "stream",
     "text": [
      "720\n"
     ]
    }
   ],
   "source": [
    "import math as mt\n",
    "print(mt.factorial(6))"
   ]
  },
  {
   "cell_type": "code",
   "execution_count": 25,
   "id": "05c8f1c0",
   "metadata": {},
   "outputs": [
    {
     "name": "stdout",
     "output_type": "stream",
     "text": [
      "729\n"
     ]
    }
   ],
   "source": [
    "r=lambda x:x*x*x\n",
    "print(r(9))"
   ]
  },
  {
   "cell_type": "code",
   "execution_count": null,
   "id": "3306eda5",
   "metadata": {},
   "outputs": [],
   "source": []
  }
 ],
 "metadata": {
  "kernelspec": {
   "display_name": "Python 3 (ipykernel)",
   "language": "python",
   "name": "python3"
  },
  "language_info": {
   "codemirror_mode": {
    "name": "ipython",
    "version": 3
   },
   "file_extension": ".py",
   "mimetype": "text/x-python",
   "name": "python",
   "nbconvert_exporter": "python",
   "pygments_lexer": "ipython3",
   "version": "3.9.7"
  }
 },
 "nbformat": 4,
 "nbformat_minor": 5
}
